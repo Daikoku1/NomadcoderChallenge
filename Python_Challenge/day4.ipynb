{
 "cells": [
  {
   "cell_type": "code",
   "execution_count": null,
   "metadata": {},
   "outputs": [],
   "source": [
    "import os, requests, re\n",
    "def restart():\n",
    "    y_or_no = str(input(\"Do you want to start over? y/n \")).lower()\n",
    "    if y_or_no == \"y\":\n",
    "        check_url()\n",
    "        return\n",
    "    elif y_or_no ==\"n\":\n",
    "        print(\"k. bye\")\n",
    "        return\n",
    "    else:\n",
    "        print(\"That's not a valid answer\")\n",
    "        restart()\n",
    "\n",
    "def check_url():\n",
    "    os.system('clear')\n",
    "    print('Welcome to IsItDown.py!')\n",
    "    print('Please write a URL or URLs you want to check. (seperated by comma)')\n",
    "    url_list = list(map(str.strip, str(input()).lower().split(\",\")))\n",
    "    for url in url_list:\n",
    "        if \".\" not in url:\n",
    "            print(url, \"is not a valid URL.\")\n",
    "        else:\n",
    "            if not re.match('http://', url):\n",
    "                url = \"http://\" + url\n",
    "            \n",
    "            try:\n",
    "                request = requests.get(url)\n",
    "                if request.status_code == 200:\n",
    "                    print(url,\"is up!\")\n",
    "                else:\n",
    "                    print(url, \"is down!\")\n",
    "            except:\n",
    "                print(url, \"is down!\")\n",
    "    restart()\n",
    "\n",
    "check_url()"
   ]
  }
 ],
 "metadata": {
  "interpreter": {
   "hash": "19c4bd4a8c3153e8f6fe1d4aa29847b7593bdeb075f08f949f70b00c677d2ba0"
  },
  "kernelspec": {
   "display_name": "Python 3.10.0 64-bit",
   "language": "python",
   "name": "python3"
  },
  "language_info": {
   "codemirror_mode": {
    "name": "ipython",
    "version": 3
   },
   "file_extension": ".py",
   "mimetype": "text/x-python",
   "name": "python",
   "nbconvert_exporter": "python",
   "pygments_lexer": "ipython3",
   "version": "3.10.0"
  },
  "orig_nbformat": 4
 },
 "nbformat": 4,
 "nbformat_minor": 2
}
