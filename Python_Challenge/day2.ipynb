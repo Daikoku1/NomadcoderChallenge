{
 "cells": [
  {
   "cell_type": "code",
   "execution_count": 1,
   "metadata": {},
   "outputs": [],
   "source": [
    "def is_on_list(li, s):\n",
    "    return s in li\n",
    "\n",
    "\n",
    "def get_x(li, i):\n",
    "    return li[i]\n",
    "\n",
    "\n",
    "def add_x(li, s):\n",
    "    return li + [s]\n",
    "\n",
    "\n",
    "def remove_x(li, s):\n",
    "    return li.remove(s)"
   ]
  },
  {
   "cell_type": "code",
   "execution_count": 2,
   "metadata": {},
   "outputs": [
    {
     "name": "stdout",
     "output_type": "stream",
     "text": [
      "Is Wed on 'days' list? True\n",
      "The fourth item in 'days' is: Thu\n",
      "['Mon', 'Tue', 'Wed', 'Thu', 'Fri', 'Sat', 'Sun']\n",
      "['Tue', 'Wed', 'Thu', 'Fri', 'Sat', 'Sun']\n"
     ]
    }
   ],
   "source": [
    "days = [\"Mon\", \"Tue\", \"Wed\", \"Thu\", \"Fri\", \"Sat\", \"Sun\"]\n",
    "\n",
    "print(\"Is Wed on 'days' list?\", is_on_list(days, \"Wed\"))\n",
    "\n",
    "print(\"The fourth item in 'days' is:\", get_x(days, 3))\n",
    "\n",
    "add_x(days, \"Sat\")\n",
    "print(days)\n",
    "\n",
    "remove_x(days, \"Mon\")\n",
    "print(days)"
   ]
  },
  {
   "cell_type": "code",
   "execution_count": null,
   "metadata": {},
   "outputs": [],
   "source": []
  }
 ],
 "metadata": {
  "interpreter": {
   "hash": "19c4bd4a8c3153e8f6fe1d4aa29847b7593bdeb075f08f949f70b00c677d2ba0"
  },
  "kernelspec": {
   "display_name": "Python 3.10.0 64-bit",
   "language": "python",
   "name": "python3"
  },
  "language_info": {
   "codemirror_mode": {
    "name": "ipython",
    "version": 3
   },
   "file_extension": ".py",
   "mimetype": "text/x-python",
   "name": "python",
   "nbconvert_exporter": "python",
   "pygments_lexer": "ipython3",
   "version": "3.10.0"
  },
  "orig_nbformat": 4
 },
 "nbformat": 4,
 "nbformat_minor": 2
}
